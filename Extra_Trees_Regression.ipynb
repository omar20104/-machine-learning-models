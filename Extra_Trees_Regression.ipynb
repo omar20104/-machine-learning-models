{
  "cells": [
    {
      "cell_type": "code",
      "execution_count": 1,
      "id": "63350e5d",
      "metadata": {
        "id": "63350e5d"
      },
      "outputs": [],
      "source": [
        "import pandas as pd\n",
        "dataset=pd.read_csv('ENB2012_data (1) (1).csv')"
      ]
    },
    {
      "cell_type": "code",
      "execution_count": 2,
      "id": "be7fb9b8",
      "metadata": {
        "colab": {
          "base_uri": "https://localhost:8080/",
          "height": 990
        },
        "id": "be7fb9b8",
        "outputId": "7baafdc0-ad27-47a3-e2d4-3ba153810e9c"
      },
      "outputs": [
        {
          "output_type": "execute_result",
          "data": {
            "text/plain": [
              "      X1     X2     X3      X4   X5  X6   X7  X8     Y1     Y2\n",
              "0   0.98  514.5  294.0  110.25  7.0   2  0.0   0  15.55  21.33\n",
              "1   0.98  514.5  294.0  110.25  7.0   3  0.0   0  15.55  21.33\n",
              "2   0.98  514.5  294.0  110.25  7.0   4  0.0   0  15.55  21.33\n",
              "3   0.98  514.5  294.0  110.25  7.0   5  0.0   0  15.55  21.33\n",
              "4   0.90  563.5  318.5  122.50  7.0   2  0.0   0  20.84  28.28\n",
              "5   0.90  563.5  318.5  122.50  7.0   3  0.0   0  21.46  25.38\n",
              "6   0.90  563.5  318.5  122.50  7.0   4  0.0   0  20.71  25.16\n",
              "7   0.90  563.5  318.5  122.50  7.0   5  0.0   0  19.68  29.60\n",
              "8   0.86  588.0  294.0  147.00  7.0   2  0.0   0  19.50  27.30\n",
              "9   0.86  588.0  294.0  147.00  7.0   3  0.0   0  19.95  21.97\n",
              "10  0.86  588.0  294.0  147.00  7.0   4  0.0   0  19.34  23.49\n",
              "11  0.86  588.0  294.0  147.00  7.0   5  0.0   0  18.31  27.87\n",
              "12  0.82  612.5  318.5  147.00  7.0   2  0.0   0  17.05  23.77\n",
              "13  0.82  612.5  318.5  147.00  7.0   3  0.0   0  17.41  21.46\n",
              "14  0.82  612.5  318.5  147.00  7.0   4  0.0   0  16.95  21.16\n",
              "15  0.82  612.5  318.5  147.00  7.0   5  0.0   0  15.98  24.93\n",
              "16  0.79  637.0  343.0  147.00  7.0   2  0.0   0  28.52  37.73\n",
              "17  0.79  637.0  343.0  147.00  7.0   3  0.0   0  29.90  31.27\n",
              "18  0.79  637.0  343.0  147.00  7.0   4  0.0   0  29.63  30.93\n",
              "19  0.79  637.0  343.0  147.00  7.0   5  0.0   0  28.75  39.44\n",
              "20  0.76  661.5  416.5  122.50  7.0   2  0.0   0  24.77  29.79\n",
              "21  0.76  661.5  416.5  122.50  7.0   3  0.0   0  23.93  29.68\n",
              "22  0.76  661.5  416.5  122.50  7.0   4  0.0   0  24.77  29.79\n",
              "23  0.76  661.5  416.5  122.50  7.0   5  0.0   0  23.93  29.40\n",
              "24  0.74  686.0  245.0  220.50  3.5   2  0.0   0   6.07  10.90\n",
              "25  0.74  686.0  245.0  220.50  3.5   3  0.0   0   6.05  11.19\n",
              "26  0.74  686.0  245.0  220.50  3.5   4  0.0   0   6.01  10.94\n",
              "27  0.74  686.0  245.0  220.50  3.5   5  0.0   0   6.04  11.17\n",
              "28  0.71  710.5  269.5  220.50  3.5   2  0.0   0   6.37  11.27\n",
              "29  0.71  710.5  269.5  220.50  3.5   3  0.0   0   6.40  11.72"
            ],
            "text/html": [
              "\n",
              "  <div id=\"df-04ef3bce-d533-400c-9224-935edc76c1c4\">\n",
              "    <div class=\"colab-df-container\">\n",
              "      <div>\n",
              "<style scoped>\n",
              "    .dataframe tbody tr th:only-of-type {\n",
              "        vertical-align: middle;\n",
              "    }\n",
              "\n",
              "    .dataframe tbody tr th {\n",
              "        vertical-align: top;\n",
              "    }\n",
              "\n",
              "    .dataframe thead th {\n",
              "        text-align: right;\n",
              "    }\n",
              "</style>\n",
              "<table border=\"1\" class=\"dataframe\">\n",
              "  <thead>\n",
              "    <tr style=\"text-align: right;\">\n",
              "      <th></th>\n",
              "      <th>X1</th>\n",
              "      <th>X2</th>\n",
              "      <th>X3</th>\n",
              "      <th>X4</th>\n",
              "      <th>X5</th>\n",
              "      <th>X6</th>\n",
              "      <th>X7</th>\n",
              "      <th>X8</th>\n",
              "      <th>Y1</th>\n",
              "      <th>Y2</th>\n",
              "    </tr>\n",
              "  </thead>\n",
              "  <tbody>\n",
              "    <tr>\n",
              "      <th>0</th>\n",
              "      <td>0.98</td>\n",
              "      <td>514.5</td>\n",
              "      <td>294.0</td>\n",
              "      <td>110.25</td>\n",
              "      <td>7.0</td>\n",
              "      <td>2</td>\n",
              "      <td>0.0</td>\n",
              "      <td>0</td>\n",
              "      <td>15.55</td>\n",
              "      <td>21.33</td>\n",
              "    </tr>\n",
              "    <tr>\n",
              "      <th>1</th>\n",
              "      <td>0.98</td>\n",
              "      <td>514.5</td>\n",
              "      <td>294.0</td>\n",
              "      <td>110.25</td>\n",
              "      <td>7.0</td>\n",
              "      <td>3</td>\n",
              "      <td>0.0</td>\n",
              "      <td>0</td>\n",
              "      <td>15.55</td>\n",
              "      <td>21.33</td>\n",
              "    </tr>\n",
              "    <tr>\n",
              "      <th>2</th>\n",
              "      <td>0.98</td>\n",
              "      <td>514.5</td>\n",
              "      <td>294.0</td>\n",
              "      <td>110.25</td>\n",
              "      <td>7.0</td>\n",
              "      <td>4</td>\n",
              "      <td>0.0</td>\n",
              "      <td>0</td>\n",
              "      <td>15.55</td>\n",
              "      <td>21.33</td>\n",
              "    </tr>\n",
              "    <tr>\n",
              "      <th>3</th>\n",
              "      <td>0.98</td>\n",
              "      <td>514.5</td>\n",
              "      <td>294.0</td>\n",
              "      <td>110.25</td>\n",
              "      <td>7.0</td>\n",
              "      <td>5</td>\n",
              "      <td>0.0</td>\n",
              "      <td>0</td>\n",
              "      <td>15.55</td>\n",
              "      <td>21.33</td>\n",
              "    </tr>\n",
              "    <tr>\n",
              "      <th>4</th>\n",
              "      <td>0.90</td>\n",
              "      <td>563.5</td>\n",
              "      <td>318.5</td>\n",
              "      <td>122.50</td>\n",
              "      <td>7.0</td>\n",
              "      <td>2</td>\n",
              "      <td>0.0</td>\n",
              "      <td>0</td>\n",
              "      <td>20.84</td>\n",
              "      <td>28.28</td>\n",
              "    </tr>\n",
              "    <tr>\n",
              "      <th>5</th>\n",
              "      <td>0.90</td>\n",
              "      <td>563.5</td>\n",
              "      <td>318.5</td>\n",
              "      <td>122.50</td>\n",
              "      <td>7.0</td>\n",
              "      <td>3</td>\n",
              "      <td>0.0</td>\n",
              "      <td>0</td>\n",
              "      <td>21.46</td>\n",
              "      <td>25.38</td>\n",
              "    </tr>\n",
              "    <tr>\n",
              "      <th>6</th>\n",
              "      <td>0.90</td>\n",
              "      <td>563.5</td>\n",
              "      <td>318.5</td>\n",
              "      <td>122.50</td>\n",
              "      <td>7.0</td>\n",
              "      <td>4</td>\n",
              "      <td>0.0</td>\n",
              "      <td>0</td>\n",
              "      <td>20.71</td>\n",
              "      <td>25.16</td>\n",
              "    </tr>\n",
              "    <tr>\n",
              "      <th>7</th>\n",
              "      <td>0.90</td>\n",
              "      <td>563.5</td>\n",
              "      <td>318.5</td>\n",
              "      <td>122.50</td>\n",
              "      <td>7.0</td>\n",
              "      <td>5</td>\n",
              "      <td>0.0</td>\n",
              "      <td>0</td>\n",
              "      <td>19.68</td>\n",
              "      <td>29.60</td>\n",
              "    </tr>\n",
              "    <tr>\n",
              "      <th>8</th>\n",
              "      <td>0.86</td>\n",
              "      <td>588.0</td>\n",
              "      <td>294.0</td>\n",
              "      <td>147.00</td>\n",
              "      <td>7.0</td>\n",
              "      <td>2</td>\n",
              "      <td>0.0</td>\n",
              "      <td>0</td>\n",
              "      <td>19.50</td>\n",
              "      <td>27.30</td>\n",
              "    </tr>\n",
              "    <tr>\n",
              "      <th>9</th>\n",
              "      <td>0.86</td>\n",
              "      <td>588.0</td>\n",
              "      <td>294.0</td>\n",
              "      <td>147.00</td>\n",
              "      <td>7.0</td>\n",
              "      <td>3</td>\n",
              "      <td>0.0</td>\n",
              "      <td>0</td>\n",
              "      <td>19.95</td>\n",
              "      <td>21.97</td>\n",
              "    </tr>\n",
              "    <tr>\n",
              "      <th>10</th>\n",
              "      <td>0.86</td>\n",
              "      <td>588.0</td>\n",
              "      <td>294.0</td>\n",
              "      <td>147.00</td>\n",
              "      <td>7.0</td>\n",
              "      <td>4</td>\n",
              "      <td>0.0</td>\n",
              "      <td>0</td>\n",
              "      <td>19.34</td>\n",
              "      <td>23.49</td>\n",
              "    </tr>\n",
              "    <tr>\n",
              "      <th>11</th>\n",
              "      <td>0.86</td>\n",
              "      <td>588.0</td>\n",
              "      <td>294.0</td>\n",
              "      <td>147.00</td>\n",
              "      <td>7.0</td>\n",
              "      <td>5</td>\n",
              "      <td>0.0</td>\n",
              "      <td>0</td>\n",
              "      <td>18.31</td>\n",
              "      <td>27.87</td>\n",
              "    </tr>\n",
              "    <tr>\n",
              "      <th>12</th>\n",
              "      <td>0.82</td>\n",
              "      <td>612.5</td>\n",
              "      <td>318.5</td>\n",
              "      <td>147.00</td>\n",
              "      <td>7.0</td>\n",
              "      <td>2</td>\n",
              "      <td>0.0</td>\n",
              "      <td>0</td>\n",
              "      <td>17.05</td>\n",
              "      <td>23.77</td>\n",
              "    </tr>\n",
              "    <tr>\n",
              "      <th>13</th>\n",
              "      <td>0.82</td>\n",
              "      <td>612.5</td>\n",
              "      <td>318.5</td>\n",
              "      <td>147.00</td>\n",
              "      <td>7.0</td>\n",
              "      <td>3</td>\n",
              "      <td>0.0</td>\n",
              "      <td>0</td>\n",
              "      <td>17.41</td>\n",
              "      <td>21.46</td>\n",
              "    </tr>\n",
              "    <tr>\n",
              "      <th>14</th>\n",
              "      <td>0.82</td>\n",
              "      <td>612.5</td>\n",
              "      <td>318.5</td>\n",
              "      <td>147.00</td>\n",
              "      <td>7.0</td>\n",
              "      <td>4</td>\n",
              "      <td>0.0</td>\n",
              "      <td>0</td>\n",
              "      <td>16.95</td>\n",
              "      <td>21.16</td>\n",
              "    </tr>\n",
              "    <tr>\n",
              "      <th>15</th>\n",
              "      <td>0.82</td>\n",
              "      <td>612.5</td>\n",
              "      <td>318.5</td>\n",
              "      <td>147.00</td>\n",
              "      <td>7.0</td>\n",
              "      <td>5</td>\n",
              "      <td>0.0</td>\n",
              "      <td>0</td>\n",
              "      <td>15.98</td>\n",
              "      <td>24.93</td>\n",
              "    </tr>\n",
              "    <tr>\n",
              "      <th>16</th>\n",
              "      <td>0.79</td>\n",
              "      <td>637.0</td>\n",
              "      <td>343.0</td>\n",
              "      <td>147.00</td>\n",
              "      <td>7.0</td>\n",
              "      <td>2</td>\n",
              "      <td>0.0</td>\n",
              "      <td>0</td>\n",
              "      <td>28.52</td>\n",
              "      <td>37.73</td>\n",
              "    </tr>\n",
              "    <tr>\n",
              "      <th>17</th>\n",
              "      <td>0.79</td>\n",
              "      <td>637.0</td>\n",
              "      <td>343.0</td>\n",
              "      <td>147.00</td>\n",
              "      <td>7.0</td>\n",
              "      <td>3</td>\n",
              "      <td>0.0</td>\n",
              "      <td>0</td>\n",
              "      <td>29.90</td>\n",
              "      <td>31.27</td>\n",
              "    </tr>\n",
              "    <tr>\n",
              "      <th>18</th>\n",
              "      <td>0.79</td>\n",
              "      <td>637.0</td>\n",
              "      <td>343.0</td>\n",
              "      <td>147.00</td>\n",
              "      <td>7.0</td>\n",
              "      <td>4</td>\n",
              "      <td>0.0</td>\n",
              "      <td>0</td>\n",
              "      <td>29.63</td>\n",
              "      <td>30.93</td>\n",
              "    </tr>\n",
              "    <tr>\n",
              "      <th>19</th>\n",
              "      <td>0.79</td>\n",
              "      <td>637.0</td>\n",
              "      <td>343.0</td>\n",
              "      <td>147.00</td>\n",
              "      <td>7.0</td>\n",
              "      <td>5</td>\n",
              "      <td>0.0</td>\n",
              "      <td>0</td>\n",
              "      <td>28.75</td>\n",
              "      <td>39.44</td>\n",
              "    </tr>\n",
              "    <tr>\n",
              "      <th>20</th>\n",
              "      <td>0.76</td>\n",
              "      <td>661.5</td>\n",
              "      <td>416.5</td>\n",
              "      <td>122.50</td>\n",
              "      <td>7.0</td>\n",
              "      <td>2</td>\n",
              "      <td>0.0</td>\n",
              "      <td>0</td>\n",
              "      <td>24.77</td>\n",
              "      <td>29.79</td>\n",
              "    </tr>\n",
              "    <tr>\n",
              "      <th>21</th>\n",
              "      <td>0.76</td>\n",
              "      <td>661.5</td>\n",
              "      <td>416.5</td>\n",
              "      <td>122.50</td>\n",
              "      <td>7.0</td>\n",
              "      <td>3</td>\n",
              "      <td>0.0</td>\n",
              "      <td>0</td>\n",
              "      <td>23.93</td>\n",
              "      <td>29.68</td>\n",
              "    </tr>\n",
              "    <tr>\n",
              "      <th>22</th>\n",
              "      <td>0.76</td>\n",
              "      <td>661.5</td>\n",
              "      <td>416.5</td>\n",
              "      <td>122.50</td>\n",
              "      <td>7.0</td>\n",
              "      <td>4</td>\n",
              "      <td>0.0</td>\n",
              "      <td>0</td>\n",
              "      <td>24.77</td>\n",
              "      <td>29.79</td>\n",
              "    </tr>\n",
              "    <tr>\n",
              "      <th>23</th>\n",
              "      <td>0.76</td>\n",
              "      <td>661.5</td>\n",
              "      <td>416.5</td>\n",
              "      <td>122.50</td>\n",
              "      <td>7.0</td>\n",
              "      <td>5</td>\n",
              "      <td>0.0</td>\n",
              "      <td>0</td>\n",
              "      <td>23.93</td>\n",
              "      <td>29.40</td>\n",
              "    </tr>\n",
              "    <tr>\n",
              "      <th>24</th>\n",
              "      <td>0.74</td>\n",
              "      <td>686.0</td>\n",
              "      <td>245.0</td>\n",
              "      <td>220.50</td>\n",
              "      <td>3.5</td>\n",
              "      <td>2</td>\n",
              "      <td>0.0</td>\n",
              "      <td>0</td>\n",
              "      <td>6.07</td>\n",
              "      <td>10.90</td>\n",
              "    </tr>\n",
              "    <tr>\n",
              "      <th>25</th>\n",
              "      <td>0.74</td>\n",
              "      <td>686.0</td>\n",
              "      <td>245.0</td>\n",
              "      <td>220.50</td>\n",
              "      <td>3.5</td>\n",
              "      <td>3</td>\n",
              "      <td>0.0</td>\n",
              "      <td>0</td>\n",
              "      <td>6.05</td>\n",
              "      <td>11.19</td>\n",
              "    </tr>\n",
              "    <tr>\n",
              "      <th>26</th>\n",
              "      <td>0.74</td>\n",
              "      <td>686.0</td>\n",
              "      <td>245.0</td>\n",
              "      <td>220.50</td>\n",
              "      <td>3.5</td>\n",
              "      <td>4</td>\n",
              "      <td>0.0</td>\n",
              "      <td>0</td>\n",
              "      <td>6.01</td>\n",
              "      <td>10.94</td>\n",
              "    </tr>\n",
              "    <tr>\n",
              "      <th>27</th>\n",
              "      <td>0.74</td>\n",
              "      <td>686.0</td>\n",
              "      <td>245.0</td>\n",
              "      <td>220.50</td>\n",
              "      <td>3.5</td>\n",
              "      <td>5</td>\n",
              "      <td>0.0</td>\n",
              "      <td>0</td>\n",
              "      <td>6.04</td>\n",
              "      <td>11.17</td>\n",
              "    </tr>\n",
              "    <tr>\n",
              "      <th>28</th>\n",
              "      <td>0.71</td>\n",
              "      <td>710.5</td>\n",
              "      <td>269.5</td>\n",
              "      <td>220.50</td>\n",
              "      <td>3.5</td>\n",
              "      <td>2</td>\n",
              "      <td>0.0</td>\n",
              "      <td>0</td>\n",
              "      <td>6.37</td>\n",
              "      <td>11.27</td>\n",
              "    </tr>\n",
              "    <tr>\n",
              "      <th>29</th>\n",
              "      <td>0.71</td>\n",
              "      <td>710.5</td>\n",
              "      <td>269.5</td>\n",
              "      <td>220.50</td>\n",
              "      <td>3.5</td>\n",
              "      <td>3</td>\n",
              "      <td>0.0</td>\n",
              "      <td>0</td>\n",
              "      <td>6.40</td>\n",
              "      <td>11.72</td>\n",
              "    </tr>\n",
              "  </tbody>\n",
              "</table>\n",
              "</div>\n",
              "      <button class=\"colab-df-convert\" onclick=\"convertToInteractive('df-04ef3bce-d533-400c-9224-935edc76c1c4')\"\n",
              "              title=\"Convert this dataframe to an interactive table.\"\n",
              "              style=\"display:none;\">\n",
              "        \n",
              "  <svg xmlns=\"http://www.w3.org/2000/svg\" height=\"24px\"viewBox=\"0 0 24 24\"\n",
              "       width=\"24px\">\n",
              "    <path d=\"M0 0h24v24H0V0z\" fill=\"none\"/>\n",
              "    <path d=\"M18.56 5.44l.94 2.06.94-2.06 2.06-.94-2.06-.94-.94-2.06-.94 2.06-2.06.94zm-11 1L8.5 8.5l.94-2.06 2.06-.94-2.06-.94L8.5 2.5l-.94 2.06-2.06.94zm10 10l.94 2.06.94-2.06 2.06-.94-2.06-.94-.94-2.06-.94 2.06-2.06.94z\"/><path d=\"M17.41 7.96l-1.37-1.37c-.4-.4-.92-.59-1.43-.59-.52 0-1.04.2-1.43.59L10.3 9.45l-7.72 7.72c-.78.78-.78 2.05 0 2.83L4 21.41c.39.39.9.59 1.41.59.51 0 1.02-.2 1.41-.59l7.78-7.78 2.81-2.81c.8-.78.8-2.07 0-2.86zM5.41 20L4 18.59l7.72-7.72 1.47 1.35L5.41 20z\"/>\n",
              "  </svg>\n",
              "      </button>\n",
              "      \n",
              "  <style>\n",
              "    .colab-df-container {\n",
              "      display:flex;\n",
              "      flex-wrap:wrap;\n",
              "      gap: 12px;\n",
              "    }\n",
              "\n",
              "    .colab-df-convert {\n",
              "      background-color: #E8F0FE;\n",
              "      border: none;\n",
              "      border-radius: 50%;\n",
              "      cursor: pointer;\n",
              "      display: none;\n",
              "      fill: #1967D2;\n",
              "      height: 32px;\n",
              "      padding: 0 0 0 0;\n",
              "      width: 32px;\n",
              "    }\n",
              "\n",
              "    .colab-df-convert:hover {\n",
              "      background-color: #E2EBFA;\n",
              "      box-shadow: 0px 1px 2px rgba(60, 64, 67, 0.3), 0px 1px 3px 1px rgba(60, 64, 67, 0.15);\n",
              "      fill: #174EA6;\n",
              "    }\n",
              "\n",
              "    [theme=dark] .colab-df-convert {\n",
              "      background-color: #3B4455;\n",
              "      fill: #D2E3FC;\n",
              "    }\n",
              "\n",
              "    [theme=dark] .colab-df-convert:hover {\n",
              "      background-color: #434B5C;\n",
              "      box-shadow: 0px 1px 3px 1px rgba(0, 0, 0, 0.15);\n",
              "      filter: drop-shadow(0px 1px 2px rgba(0, 0, 0, 0.3));\n",
              "      fill: #FFFFFF;\n",
              "    }\n",
              "  </style>\n",
              "\n",
              "      <script>\n",
              "        const buttonEl =\n",
              "          document.querySelector('#df-04ef3bce-d533-400c-9224-935edc76c1c4 button.colab-df-convert');\n",
              "        buttonEl.style.display =\n",
              "          google.colab.kernel.accessAllowed ? 'block' : 'none';\n",
              "\n",
              "        async function convertToInteractive(key) {\n",
              "          const element = document.querySelector('#df-04ef3bce-d533-400c-9224-935edc76c1c4');\n",
              "          const dataTable =\n",
              "            await google.colab.kernel.invokeFunction('convertToInteractive',\n",
              "                                                     [key], {});\n",
              "          if (!dataTable) return;\n",
              "\n",
              "          const docLinkHtml = 'Like what you see? Visit the ' +\n",
              "            '<a target=\"_blank\" href=https://colab.research.google.com/notebooks/data_table.ipynb>data table notebook</a>'\n",
              "            + ' to learn more about interactive tables.';\n",
              "          element.innerHTML = '';\n",
              "          dataTable['output_type'] = 'display_data';\n",
              "          await google.colab.output.renderOutput(dataTable, element);\n",
              "          const docLink = document.createElement('div');\n",
              "          docLink.innerHTML = docLinkHtml;\n",
              "          element.appendChild(docLink);\n",
              "        }\n",
              "      </script>\n",
              "    </div>\n",
              "  </div>\n",
              "  "
            ]
          },
          "metadata": {},
          "execution_count": 2
        }
      ],
      "source": [
        "dataset.head(30)"
      ]
    },
    {
      "cell_type": "code",
      "execution_count": 3,
      "id": "53bdb814",
      "metadata": {
        "colab": {
          "base_uri": "https://localhost:8080/"
        },
        "id": "53bdb814",
        "outputId": "dbf6177e-4437-4ba9-d6a7-41f6a6dca944"
      },
      "outputs": [
        {
          "output_type": "execute_result",
          "data": {
            "text/plain": [
              "Index(['X1', 'X2', 'X3', 'X4', 'X5', 'X6', 'X7', 'X8', 'Y1', 'Y2'], dtype='object')"
            ]
          },
          "metadata": {},
          "execution_count": 3
        }
      ],
      "source": [
        "dataset.columns"
      ]
    },
    {
      "cell_type": "code",
      "execution_count": 4,
      "id": "6326d833",
      "metadata": {
        "id": "6326d833"
      },
      "outputs": [],
      "source": [
        "dataset.columns=['Relative Compactness','Surface Area','Wall Area','Roof Area','Overall Height','Orientation','Glazing Area','Glazing Area Dis.','Heating Load','Cooling Load']"
      ]
    },
    {
      "cell_type": "code",
      "execution_count": 5,
      "id": "1b4d724b",
      "metadata": {
        "colab": {
          "base_uri": "https://localhost:8080/"
        },
        "id": "1b4d724b",
        "outputId": "1d310771-00bc-4d9c-d697-d763294cf5fd"
      },
      "outputs": [
        {
          "output_type": "execute_result",
          "data": {
            "text/plain": [
              "Index(['Relative Compactness', 'Surface Area', 'Wall Area', 'Roof Area',\n",
              "       'Overall Height', 'Orientation', 'Glazing Area', 'Glazing Area Dis.',\n",
              "       'Heating Load', 'Cooling Load'],\n",
              "      dtype='object')"
            ]
          },
          "metadata": {},
          "execution_count": 5
        }
      ],
      "source": [
        "dataset.columns"
      ]
    },
    {
      "cell_type": "code",
      "execution_count": 6,
      "id": "e9cdbb3c",
      "metadata": {
        "colab": {
          "base_uri": "https://localhost:8080/"
        },
        "id": "e9cdbb3c",
        "outputId": "189a6b60-24a5-4588-9260-4016c5d26720"
      },
      "outputs": [
        {
          "output_type": "execute_result",
          "data": {
            "text/plain": [
              "Relative Compactness    False\n",
              "Surface Area            False\n",
              "Wall Area               False\n",
              "Roof Area               False\n",
              "Overall Height          False\n",
              "Orientation             False\n",
              "Glazing Area            False\n",
              "Glazing Area Dis.       False\n",
              "Heating Load            False\n",
              "Cooling Load            False\n",
              "dtype: bool"
            ]
          },
          "metadata": {},
          "execution_count": 6
        }
      ],
      "source": [
        "dataset.isna().any()"
      ]
    },
    {
      "cell_type": "code",
      "execution_count": 7,
      "id": "3c22fc17",
      "metadata": {
        "colab": {
          "base_uri": "https://localhost:8080/"
        },
        "id": "3c22fc17",
        "outputId": "10479f13-46e4-4f93-ec13-7db0d41815b4"
      },
      "outputs": [
        {
          "output_type": "execute_result",
          "data": {
            "text/plain": [
              "Relative Compactness    0\n",
              "Surface Area            0\n",
              "Wall Area               0\n",
              "Roof Area               0\n",
              "Overall Height          0\n",
              "Orientation             0\n",
              "Glazing Area            0\n",
              "Glazing Area Dis.       0\n",
              "Heating Load            0\n",
              "Cooling Load            0\n",
              "dtype: int64"
            ]
          },
          "metadata": {},
          "execution_count": 7
        }
      ],
      "source": [
        "dataset.isnull().sum()"
      ]
    },
    {
      "cell_type": "code",
      "execution_count": 8,
      "id": "625a8bf8",
      "metadata": {
        "colab": {
          "base_uri": "https://localhost:8080/"
        },
        "id": "625a8bf8",
        "outputId": "65a9d92b-e92d-4c40-d55b-081a1c82657b"
      },
      "outputs": [
        {
          "output_type": "execute_result",
          "data": {
            "text/plain": [
              "Relative Compactness    float64\n",
              "Surface Area            float64\n",
              "Wall Area               float64\n",
              "Roof Area               float64\n",
              "Overall Height          float64\n",
              "Orientation               int64\n",
              "Glazing Area            float64\n",
              "Glazing Area Dis.         int64\n",
              "Heating Load            float64\n",
              "Cooling Load            float64\n",
              "dtype: object"
            ]
          },
          "metadata": {},
          "execution_count": 8
        }
      ],
      "source": [
        "dataset.dtypes"
      ]
    },
    {
      "cell_type": "code",
      "execution_count": 9,
      "id": "702678f7",
      "metadata": {
        "colab": {
          "base_uri": "https://localhost:8080/"
        },
        "id": "702678f7",
        "outputId": "684e3b5d-35c4-4c8f-eb52-c047ad673319"
      },
      "outputs": [
        {
          "output_type": "stream",
          "name": "stdout",
          "text": [
            "<class 'pandas.core.frame.DataFrame'>\n",
            "RangeIndex: 768 entries, 0 to 767\n",
            "Data columns (total 10 columns):\n",
            " #   Column                Non-Null Count  Dtype  \n",
            "---  ------                --------------  -----  \n",
            " 0   Relative Compactness  768 non-null    float64\n",
            " 1   Surface Area          768 non-null    float64\n",
            " 2   Wall Area             768 non-null    float64\n",
            " 3   Roof Area             768 non-null    float64\n",
            " 4   Overall Height        768 non-null    float64\n",
            " 5   Orientation           768 non-null    int64  \n",
            " 6   Glazing Area          768 non-null    float64\n",
            " 7   Glazing Area Dis.     768 non-null    int64  \n",
            " 8   Heating Load          768 non-null    float64\n",
            " 9   Cooling Load          768 non-null    float64\n",
            "dtypes: float64(8), int64(2)\n",
            "memory usage: 60.1 KB\n"
          ]
        }
      ],
      "source": [
        "dataset.info()"
      ]
    },
    {
      "cell_type": "code",
      "execution_count": 10,
      "id": "9d23524c",
      "metadata": {
        "colab": {
          "base_uri": "https://localhost:8080/",
          "height": 618
        },
        "id": "9d23524c",
        "outputId": "4cbf19a9-d6f9-497d-cf61-8de81287ad3a"
      },
      "outputs": [
        {
          "output_type": "execute_result",
          "data": {
            "text/plain": [
              "                      Relative Compactness  Surface Area     Wall Area  \\\n",
              "Relative Compactness          1.000000e+00 -9.919015e-01 -2.037817e-01   \n",
              "Surface Area                 -9.919015e-01  1.000000e+00  1.955016e-01   \n",
              "Wall Area                    -2.037817e-01  1.955016e-01  1.000000e+00   \n",
              "Roof Area                    -8.688234e-01  8.807195e-01 -2.923165e-01   \n",
              "Overall Height                8.277473e-01 -8.581477e-01  2.809757e-01   \n",
              "Orientation                   4.678592e-17 -3.459372e-17 -2.429499e-17   \n",
              "Glazing Area                 -2.960552e-15  3.636925e-15 -8.567455e-17   \n",
              "Glazing Area Dis.            -7.107006e-16  2.438409e-15  2.067384e-16   \n",
              "Heating Load                  6.222722e-01 -6.581202e-01  4.556712e-01   \n",
              "Cooling Load                  6.343391e-01 -6.729989e-01  4.271170e-01   \n",
              "\n",
              "                         Roof Area  Overall Height   Orientation  \\\n",
              "Relative Compactness -8.688234e-01    8.277473e-01  4.678592e-17   \n",
              "Surface Area          8.807195e-01   -8.581477e-01 -3.459372e-17   \n",
              "Wall Area            -2.923165e-01    2.809757e-01 -2.429499e-17   \n",
              "Roof Area             1.000000e+00   -9.725122e-01 -5.830058e-17   \n",
              "Overall Height       -9.725122e-01    1.000000e+00  4.492205e-17   \n",
              "Orientation          -5.830058e-17    4.492205e-17  1.000000e+00   \n",
              "Glazing Area         -1.759011e-15    1.489134e-17 -9.406007e-16   \n",
              "Glazing Area Dis.    -1.078071e-15   -2.920613e-17 -2.549352e-16   \n",
              "Heating Load         -8.618283e-01    8.894307e-01 -2.586534e-03   \n",
              "Cooling Load         -8.625466e-01    8.957852e-01  1.428960e-02   \n",
              "\n",
              "                      Glazing Area  Glazing Area Dis.  Heating Load  \\\n",
              "Relative Compactness -2.960552e-15      -7.107006e-16      0.622272   \n",
              "Surface Area          3.636925e-15       2.438409e-15     -0.658120   \n",
              "Wall Area            -8.567455e-17       2.067384e-16      0.455671   \n",
              "Roof Area            -1.759011e-15      -1.078071e-15     -0.861828   \n",
              "Overall Height        1.489134e-17      -2.920613e-17      0.889431   \n",
              "Orientation          -9.406007e-16      -2.549352e-16     -0.002587   \n",
              "Glazing Area          1.000000e+00       2.129642e-01      0.269841   \n",
              "Glazing Area Dis.     2.129642e-01       1.000000e+00      0.087368   \n",
              "Heating Load          2.698410e-01       8.736759e-02      1.000000   \n",
              "Cooling Load          2.075050e-01       5.052512e-02      0.975862   \n",
              "\n",
              "                      Cooling Load  \n",
              "Relative Compactness      0.634339  \n",
              "Surface Area             -0.672999  \n",
              "Wall Area                 0.427117  \n",
              "Roof Area                -0.862547  \n",
              "Overall Height            0.895785  \n",
              "Orientation               0.014290  \n",
              "Glazing Area              0.207505  \n",
              "Glazing Area Dis.         0.050525  \n",
              "Heating Load              0.975862  \n",
              "Cooling Load              1.000000  "
            ],
            "text/html": [
              "\n",
              "  <div id=\"df-5460ea4b-0605-4161-8db5-ae76ddec2b57\">\n",
              "    <div class=\"colab-df-container\">\n",
              "      <div>\n",
              "<style scoped>\n",
              "    .dataframe tbody tr th:only-of-type {\n",
              "        vertical-align: middle;\n",
              "    }\n",
              "\n",
              "    .dataframe tbody tr th {\n",
              "        vertical-align: top;\n",
              "    }\n",
              "\n",
              "    .dataframe thead th {\n",
              "        text-align: right;\n",
              "    }\n",
              "</style>\n",
              "<table border=\"1\" class=\"dataframe\">\n",
              "  <thead>\n",
              "    <tr style=\"text-align: right;\">\n",
              "      <th></th>\n",
              "      <th>Relative Compactness</th>\n",
              "      <th>Surface Area</th>\n",
              "      <th>Wall Area</th>\n",
              "      <th>Roof Area</th>\n",
              "      <th>Overall Height</th>\n",
              "      <th>Orientation</th>\n",
              "      <th>Glazing Area</th>\n",
              "      <th>Glazing Area Dis.</th>\n",
              "      <th>Heating Load</th>\n",
              "      <th>Cooling Load</th>\n",
              "    </tr>\n",
              "  </thead>\n",
              "  <tbody>\n",
              "    <tr>\n",
              "      <th>Relative Compactness</th>\n",
              "      <td>1.000000e+00</td>\n",
              "      <td>-9.919015e-01</td>\n",
              "      <td>-2.037817e-01</td>\n",
              "      <td>-8.688234e-01</td>\n",
              "      <td>8.277473e-01</td>\n",
              "      <td>4.678592e-17</td>\n",
              "      <td>-2.960552e-15</td>\n",
              "      <td>-7.107006e-16</td>\n",
              "      <td>0.622272</td>\n",
              "      <td>0.634339</td>\n",
              "    </tr>\n",
              "    <tr>\n",
              "      <th>Surface Area</th>\n",
              "      <td>-9.919015e-01</td>\n",
              "      <td>1.000000e+00</td>\n",
              "      <td>1.955016e-01</td>\n",
              "      <td>8.807195e-01</td>\n",
              "      <td>-8.581477e-01</td>\n",
              "      <td>-3.459372e-17</td>\n",
              "      <td>3.636925e-15</td>\n",
              "      <td>2.438409e-15</td>\n",
              "      <td>-0.658120</td>\n",
              "      <td>-0.672999</td>\n",
              "    </tr>\n",
              "    <tr>\n",
              "      <th>Wall Area</th>\n",
              "      <td>-2.037817e-01</td>\n",
              "      <td>1.955016e-01</td>\n",
              "      <td>1.000000e+00</td>\n",
              "      <td>-2.923165e-01</td>\n",
              "      <td>2.809757e-01</td>\n",
              "      <td>-2.429499e-17</td>\n",
              "      <td>-8.567455e-17</td>\n",
              "      <td>2.067384e-16</td>\n",
              "      <td>0.455671</td>\n",
              "      <td>0.427117</td>\n",
              "    </tr>\n",
              "    <tr>\n",
              "      <th>Roof Area</th>\n",
              "      <td>-8.688234e-01</td>\n",
              "      <td>8.807195e-01</td>\n",
              "      <td>-2.923165e-01</td>\n",
              "      <td>1.000000e+00</td>\n",
              "      <td>-9.725122e-01</td>\n",
              "      <td>-5.830058e-17</td>\n",
              "      <td>-1.759011e-15</td>\n",
              "      <td>-1.078071e-15</td>\n",
              "      <td>-0.861828</td>\n",
              "      <td>-0.862547</td>\n",
              "    </tr>\n",
              "    <tr>\n",
              "      <th>Overall Height</th>\n",
              "      <td>8.277473e-01</td>\n",
              "      <td>-8.581477e-01</td>\n",
              "      <td>2.809757e-01</td>\n",
              "      <td>-9.725122e-01</td>\n",
              "      <td>1.000000e+00</td>\n",
              "      <td>4.492205e-17</td>\n",
              "      <td>1.489134e-17</td>\n",
              "      <td>-2.920613e-17</td>\n",
              "      <td>0.889431</td>\n",
              "      <td>0.895785</td>\n",
              "    </tr>\n",
              "    <tr>\n",
              "      <th>Orientation</th>\n",
              "      <td>4.678592e-17</td>\n",
              "      <td>-3.459372e-17</td>\n",
              "      <td>-2.429499e-17</td>\n",
              "      <td>-5.830058e-17</td>\n",
              "      <td>4.492205e-17</td>\n",
              "      <td>1.000000e+00</td>\n",
              "      <td>-9.406007e-16</td>\n",
              "      <td>-2.549352e-16</td>\n",
              "      <td>-0.002587</td>\n",
              "      <td>0.014290</td>\n",
              "    </tr>\n",
              "    <tr>\n",
              "      <th>Glazing Area</th>\n",
              "      <td>-2.960552e-15</td>\n",
              "      <td>3.636925e-15</td>\n",
              "      <td>-8.567455e-17</td>\n",
              "      <td>-1.759011e-15</td>\n",
              "      <td>1.489134e-17</td>\n",
              "      <td>-9.406007e-16</td>\n",
              "      <td>1.000000e+00</td>\n",
              "      <td>2.129642e-01</td>\n",
              "      <td>0.269841</td>\n",
              "      <td>0.207505</td>\n",
              "    </tr>\n",
              "    <tr>\n",
              "      <th>Glazing Area Dis.</th>\n",
              "      <td>-7.107006e-16</td>\n",
              "      <td>2.438409e-15</td>\n",
              "      <td>2.067384e-16</td>\n",
              "      <td>-1.078071e-15</td>\n",
              "      <td>-2.920613e-17</td>\n",
              "      <td>-2.549352e-16</td>\n",
              "      <td>2.129642e-01</td>\n",
              "      <td>1.000000e+00</td>\n",
              "      <td>0.087368</td>\n",
              "      <td>0.050525</td>\n",
              "    </tr>\n",
              "    <tr>\n",
              "      <th>Heating Load</th>\n",
              "      <td>6.222722e-01</td>\n",
              "      <td>-6.581202e-01</td>\n",
              "      <td>4.556712e-01</td>\n",
              "      <td>-8.618283e-01</td>\n",
              "      <td>8.894307e-01</td>\n",
              "      <td>-2.586534e-03</td>\n",
              "      <td>2.698410e-01</td>\n",
              "      <td>8.736759e-02</td>\n",
              "      <td>1.000000</td>\n",
              "      <td>0.975862</td>\n",
              "    </tr>\n",
              "    <tr>\n",
              "      <th>Cooling Load</th>\n",
              "      <td>6.343391e-01</td>\n",
              "      <td>-6.729989e-01</td>\n",
              "      <td>4.271170e-01</td>\n",
              "      <td>-8.625466e-01</td>\n",
              "      <td>8.957852e-01</td>\n",
              "      <td>1.428960e-02</td>\n",
              "      <td>2.075050e-01</td>\n",
              "      <td>5.052512e-02</td>\n",
              "      <td>0.975862</td>\n",
              "      <td>1.000000</td>\n",
              "    </tr>\n",
              "  </tbody>\n",
              "</table>\n",
              "</div>\n",
              "      <button class=\"colab-df-convert\" onclick=\"convertToInteractive('df-5460ea4b-0605-4161-8db5-ae76ddec2b57')\"\n",
              "              title=\"Convert this dataframe to an interactive table.\"\n",
              "              style=\"display:none;\">\n",
              "        \n",
              "  <svg xmlns=\"http://www.w3.org/2000/svg\" height=\"24px\"viewBox=\"0 0 24 24\"\n",
              "       width=\"24px\">\n",
              "    <path d=\"M0 0h24v24H0V0z\" fill=\"none\"/>\n",
              "    <path d=\"M18.56 5.44l.94 2.06.94-2.06 2.06-.94-2.06-.94-.94-2.06-.94 2.06-2.06.94zm-11 1L8.5 8.5l.94-2.06 2.06-.94-2.06-.94L8.5 2.5l-.94 2.06-2.06.94zm10 10l.94 2.06.94-2.06 2.06-.94-2.06-.94-.94-2.06-.94 2.06-2.06.94z\"/><path d=\"M17.41 7.96l-1.37-1.37c-.4-.4-.92-.59-1.43-.59-.52 0-1.04.2-1.43.59L10.3 9.45l-7.72 7.72c-.78.78-.78 2.05 0 2.83L4 21.41c.39.39.9.59 1.41.59.51 0 1.02-.2 1.41-.59l7.78-7.78 2.81-2.81c.8-.78.8-2.07 0-2.86zM5.41 20L4 18.59l7.72-7.72 1.47 1.35L5.41 20z\"/>\n",
              "  </svg>\n",
              "      </button>\n",
              "      \n",
              "  <style>\n",
              "    .colab-df-container {\n",
              "      display:flex;\n",
              "      flex-wrap:wrap;\n",
              "      gap: 12px;\n",
              "    }\n",
              "\n",
              "    .colab-df-convert {\n",
              "      background-color: #E8F0FE;\n",
              "      border: none;\n",
              "      border-radius: 50%;\n",
              "      cursor: pointer;\n",
              "      display: none;\n",
              "      fill: #1967D2;\n",
              "      height: 32px;\n",
              "      padding: 0 0 0 0;\n",
              "      width: 32px;\n",
              "    }\n",
              "\n",
              "    .colab-df-convert:hover {\n",
              "      background-color: #E2EBFA;\n",
              "      box-shadow: 0px 1px 2px rgba(60, 64, 67, 0.3), 0px 1px 3px 1px rgba(60, 64, 67, 0.15);\n",
              "      fill: #174EA6;\n",
              "    }\n",
              "\n",
              "    [theme=dark] .colab-df-convert {\n",
              "      background-color: #3B4455;\n",
              "      fill: #D2E3FC;\n",
              "    }\n",
              "\n",
              "    [theme=dark] .colab-df-convert:hover {\n",
              "      background-color: #434B5C;\n",
              "      box-shadow: 0px 1px 3px 1px rgba(0, 0, 0, 0.15);\n",
              "      filter: drop-shadow(0px 1px 2px rgba(0, 0, 0, 0.3));\n",
              "      fill: #FFFFFF;\n",
              "    }\n",
              "  </style>\n",
              "\n",
              "      <script>\n",
              "        const buttonEl =\n",
              "          document.querySelector('#df-5460ea4b-0605-4161-8db5-ae76ddec2b57 button.colab-df-convert');\n",
              "        buttonEl.style.display =\n",
              "          google.colab.kernel.accessAllowed ? 'block' : 'none';\n",
              "\n",
              "        async function convertToInteractive(key) {\n",
              "          const element = document.querySelector('#df-5460ea4b-0605-4161-8db5-ae76ddec2b57');\n",
              "          const dataTable =\n",
              "            await google.colab.kernel.invokeFunction('convertToInteractive',\n",
              "                                                     [key], {});\n",
              "          if (!dataTable) return;\n",
              "\n",
              "          const docLinkHtml = 'Like what you see? Visit the ' +\n",
              "            '<a target=\"_blank\" href=https://colab.research.google.com/notebooks/data_table.ipynb>data table notebook</a>'\n",
              "            + ' to learn more about interactive tables.';\n",
              "          element.innerHTML = '';\n",
              "          dataTable['output_type'] = 'display_data';\n",
              "          await google.colab.output.renderOutput(dataTable, element);\n",
              "          const docLink = document.createElement('div');\n",
              "          docLink.innerHTML = docLinkHtml;\n",
              "          element.appendChild(docLink);\n",
              "        }\n",
              "      </script>\n",
              "    </div>\n",
              "  </div>\n",
              "  "
            ]
          },
          "metadata": {},
          "execution_count": 10
        }
      ],
      "source": [
        "dataset.corr()"
      ]
    },
    {
      "cell_type": "code",
      "execution_count": 11,
      "id": "7efeca20",
      "metadata": {
        "colab": {
          "base_uri": "https://localhost:8080/",
          "height": 514
        },
        "id": "7efeca20",
        "outputId": "fc0f8fc4-0eef-4630-ccb7-c628b3270aec"
      },
      "outputs": [
        {
          "output_type": "execute_result",
          "data": {
            "text/plain": [
              "                      Relative Compactness  Surface Area  Wall Area  \\\n",
              "Relative Compactness                  1.00         -0.99      -0.20   \n",
              "Surface Area                         -0.99          1.00       0.20   \n",
              "Wall Area                            -0.20          0.20       1.00   \n",
              "Roof Area                            -0.87          0.88      -0.29   \n",
              "Overall Height                        0.83         -0.86       0.28   \n",
              "Orientation                           0.00         -0.00      -0.00   \n",
              "Glazing Area                         -0.00          0.00      -0.00   \n",
              "Glazing Area Dis.                    -0.00          0.00       0.00   \n",
              "Heating Load                          0.62         -0.66       0.46   \n",
              "Cooling Load                          0.63         -0.67       0.43   \n",
              "\n",
              "                      Roof Area  Overall Height  Orientation  Glazing Area  \\\n",
              "Relative Compactness      -0.87            0.83         0.00         -0.00   \n",
              "Surface Area               0.88           -0.86        -0.00          0.00   \n",
              "Wall Area                 -0.29            0.28        -0.00         -0.00   \n",
              "Roof Area                  1.00           -0.97        -0.00         -0.00   \n",
              "Overall Height            -0.97            1.00         0.00          0.00   \n",
              "Orientation               -0.00            0.00         1.00         -0.00   \n",
              "Glazing Area              -0.00            0.00        -0.00          1.00   \n",
              "Glazing Area Dis.         -0.00           -0.00        -0.00          0.21   \n",
              "Heating Load              -0.86            0.89        -0.00          0.27   \n",
              "Cooling Load              -0.86            0.90         0.01          0.21   \n",
              "\n",
              "                      Glazing Area Dis.  Heating Load  Cooling Load  \n",
              "Relative Compactness              -0.00          0.62          0.63  \n",
              "Surface Area                       0.00         -0.66         -0.67  \n",
              "Wall Area                          0.00          0.46          0.43  \n",
              "Roof Area                         -0.00         -0.86         -0.86  \n",
              "Overall Height                    -0.00          0.89          0.90  \n",
              "Orientation                       -0.00         -0.00          0.01  \n",
              "Glazing Area                       0.21          0.27          0.21  \n",
              "Glazing Area Dis.                  1.00          0.09          0.05  \n",
              "Heating Load                       0.09          1.00          0.98  \n",
              "Cooling Load                       0.05          0.98          1.00  "
            ],
            "text/html": [
              "\n",
              "  <div id=\"df-a57cf18f-a5d7-43d8-8471-e286462dfe9b\">\n",
              "    <div class=\"colab-df-container\">\n",
              "      <div>\n",
              "<style scoped>\n",
              "    .dataframe tbody tr th:only-of-type {\n",
              "        vertical-align: middle;\n",
              "    }\n",
              "\n",
              "    .dataframe tbody tr th {\n",
              "        vertical-align: top;\n",
              "    }\n",
              "\n",
              "    .dataframe thead th {\n",
              "        text-align: right;\n",
              "    }\n",
              "</style>\n",
              "<table border=\"1\" class=\"dataframe\">\n",
              "  <thead>\n",
              "    <tr style=\"text-align: right;\">\n",
              "      <th></th>\n",
              "      <th>Relative Compactness</th>\n",
              "      <th>Surface Area</th>\n",
              "      <th>Wall Area</th>\n",
              "      <th>Roof Area</th>\n",
              "      <th>Overall Height</th>\n",
              "      <th>Orientation</th>\n",
              "      <th>Glazing Area</th>\n",
              "      <th>Glazing Area Dis.</th>\n",
              "      <th>Heating Load</th>\n",
              "      <th>Cooling Load</th>\n",
              "    </tr>\n",
              "  </thead>\n",
              "  <tbody>\n",
              "    <tr>\n",
              "      <th>Relative Compactness</th>\n",
              "      <td>1.00</td>\n",
              "      <td>-0.99</td>\n",
              "      <td>-0.20</td>\n",
              "      <td>-0.87</td>\n",
              "      <td>0.83</td>\n",
              "      <td>0.00</td>\n",
              "      <td>-0.00</td>\n",
              "      <td>-0.00</td>\n",
              "      <td>0.62</td>\n",
              "      <td>0.63</td>\n",
              "    </tr>\n",
              "    <tr>\n",
              "      <th>Surface Area</th>\n",
              "      <td>-0.99</td>\n",
              "      <td>1.00</td>\n",
              "      <td>0.20</td>\n",
              "      <td>0.88</td>\n",
              "      <td>-0.86</td>\n",
              "      <td>-0.00</td>\n",
              "      <td>0.00</td>\n",
              "      <td>0.00</td>\n",
              "      <td>-0.66</td>\n",
              "      <td>-0.67</td>\n",
              "    </tr>\n",
              "    <tr>\n",
              "      <th>Wall Area</th>\n",
              "      <td>-0.20</td>\n",
              "      <td>0.20</td>\n",
              "      <td>1.00</td>\n",
              "      <td>-0.29</td>\n",
              "      <td>0.28</td>\n",
              "      <td>-0.00</td>\n",
              "      <td>-0.00</td>\n",
              "      <td>0.00</td>\n",
              "      <td>0.46</td>\n",
              "      <td>0.43</td>\n",
              "    </tr>\n",
              "    <tr>\n",
              "      <th>Roof Area</th>\n",
              "      <td>-0.87</td>\n",
              "      <td>0.88</td>\n",
              "      <td>-0.29</td>\n",
              "      <td>1.00</td>\n",
              "      <td>-0.97</td>\n",
              "      <td>-0.00</td>\n",
              "      <td>-0.00</td>\n",
              "      <td>-0.00</td>\n",
              "      <td>-0.86</td>\n",
              "      <td>-0.86</td>\n",
              "    </tr>\n",
              "    <tr>\n",
              "      <th>Overall Height</th>\n",
              "      <td>0.83</td>\n",
              "      <td>-0.86</td>\n",
              "      <td>0.28</td>\n",
              "      <td>-0.97</td>\n",
              "      <td>1.00</td>\n",
              "      <td>0.00</td>\n",
              "      <td>0.00</td>\n",
              "      <td>-0.00</td>\n",
              "      <td>0.89</td>\n",
              "      <td>0.90</td>\n",
              "    </tr>\n",
              "    <tr>\n",
              "      <th>Orientation</th>\n",
              "      <td>0.00</td>\n",
              "      <td>-0.00</td>\n",
              "      <td>-0.00</td>\n",
              "      <td>-0.00</td>\n",
              "      <td>0.00</td>\n",
              "      <td>1.00</td>\n",
              "      <td>-0.00</td>\n",
              "      <td>-0.00</td>\n",
              "      <td>-0.00</td>\n",
              "      <td>0.01</td>\n",
              "    </tr>\n",
              "    <tr>\n",
              "      <th>Glazing Area</th>\n",
              "      <td>-0.00</td>\n",
              "      <td>0.00</td>\n",
              "      <td>-0.00</td>\n",
              "      <td>-0.00</td>\n",
              "      <td>0.00</td>\n",
              "      <td>-0.00</td>\n",
              "      <td>1.00</td>\n",
              "      <td>0.21</td>\n",
              "      <td>0.27</td>\n",
              "      <td>0.21</td>\n",
              "    </tr>\n",
              "    <tr>\n",
              "      <th>Glazing Area Dis.</th>\n",
              "      <td>-0.00</td>\n",
              "      <td>0.00</td>\n",
              "      <td>0.00</td>\n",
              "      <td>-0.00</td>\n",
              "      <td>-0.00</td>\n",
              "      <td>-0.00</td>\n",
              "      <td>0.21</td>\n",
              "      <td>1.00</td>\n",
              "      <td>0.09</td>\n",
              "      <td>0.05</td>\n",
              "    </tr>\n",
              "    <tr>\n",
              "      <th>Heating Load</th>\n",
              "      <td>0.62</td>\n",
              "      <td>-0.66</td>\n",
              "      <td>0.46</td>\n",
              "      <td>-0.86</td>\n",
              "      <td>0.89</td>\n",
              "      <td>-0.00</td>\n",
              "      <td>0.27</td>\n",
              "      <td>0.09</td>\n",
              "      <td>1.00</td>\n",
              "      <td>0.98</td>\n",
              "    </tr>\n",
              "    <tr>\n",
              "      <th>Cooling Load</th>\n",
              "      <td>0.63</td>\n",
              "      <td>-0.67</td>\n",
              "      <td>0.43</td>\n",
              "      <td>-0.86</td>\n",
              "      <td>0.90</td>\n",
              "      <td>0.01</td>\n",
              "      <td>0.21</td>\n",
              "      <td>0.05</td>\n",
              "      <td>0.98</td>\n",
              "      <td>1.00</td>\n",
              "    </tr>\n",
              "  </tbody>\n",
              "</table>\n",
              "</div>\n",
              "      <button class=\"colab-df-convert\" onclick=\"convertToInteractive('df-a57cf18f-a5d7-43d8-8471-e286462dfe9b')\"\n",
              "              title=\"Convert this dataframe to an interactive table.\"\n",
              "              style=\"display:none;\">\n",
              "        \n",
              "  <svg xmlns=\"http://www.w3.org/2000/svg\" height=\"24px\"viewBox=\"0 0 24 24\"\n",
              "       width=\"24px\">\n",
              "    <path d=\"M0 0h24v24H0V0z\" fill=\"none\"/>\n",
              "    <path d=\"M18.56 5.44l.94 2.06.94-2.06 2.06-.94-2.06-.94-.94-2.06-.94 2.06-2.06.94zm-11 1L8.5 8.5l.94-2.06 2.06-.94-2.06-.94L8.5 2.5l-.94 2.06-2.06.94zm10 10l.94 2.06.94-2.06 2.06-.94-2.06-.94-.94-2.06-.94 2.06-2.06.94z\"/><path d=\"M17.41 7.96l-1.37-1.37c-.4-.4-.92-.59-1.43-.59-.52 0-1.04.2-1.43.59L10.3 9.45l-7.72 7.72c-.78.78-.78 2.05 0 2.83L4 21.41c.39.39.9.59 1.41.59.51 0 1.02-.2 1.41-.59l7.78-7.78 2.81-2.81c.8-.78.8-2.07 0-2.86zM5.41 20L4 18.59l7.72-7.72 1.47 1.35L5.41 20z\"/>\n",
              "  </svg>\n",
              "      </button>\n",
              "      \n",
              "  <style>\n",
              "    .colab-df-container {\n",
              "      display:flex;\n",
              "      flex-wrap:wrap;\n",
              "      gap: 12px;\n",
              "    }\n",
              "\n",
              "    .colab-df-convert {\n",
              "      background-color: #E8F0FE;\n",
              "      border: none;\n",
              "      border-radius: 50%;\n",
              "      cursor: pointer;\n",
              "      display: none;\n",
              "      fill: #1967D2;\n",
              "      height: 32px;\n",
              "      padding: 0 0 0 0;\n",
              "      width: 32px;\n",
              "    }\n",
              "\n",
              "    .colab-df-convert:hover {\n",
              "      background-color: #E2EBFA;\n",
              "      box-shadow: 0px 1px 2px rgba(60, 64, 67, 0.3), 0px 1px 3px 1px rgba(60, 64, 67, 0.15);\n",
              "      fill: #174EA6;\n",
              "    }\n",
              "\n",
              "    [theme=dark] .colab-df-convert {\n",
              "      background-color: #3B4455;\n",
              "      fill: #D2E3FC;\n",
              "    }\n",
              "\n",
              "    [theme=dark] .colab-df-convert:hover {\n",
              "      background-color: #434B5C;\n",
              "      box-shadow: 0px 1px 3px 1px rgba(0, 0, 0, 0.15);\n",
              "      filter: drop-shadow(0px 1px 2px rgba(0, 0, 0, 0.3));\n",
              "      fill: #FFFFFF;\n",
              "    }\n",
              "  </style>\n",
              "\n",
              "      <script>\n",
              "        const buttonEl =\n",
              "          document.querySelector('#df-a57cf18f-a5d7-43d8-8471-e286462dfe9b button.colab-df-convert');\n",
              "        buttonEl.style.display =\n",
              "          google.colab.kernel.accessAllowed ? 'block' : 'none';\n",
              "\n",
              "        async function convertToInteractive(key) {\n",
              "          const element = document.querySelector('#df-a57cf18f-a5d7-43d8-8471-e286462dfe9b');\n",
              "          const dataTable =\n",
              "            await google.colab.kernel.invokeFunction('convertToInteractive',\n",
              "                                                     [key], {});\n",
              "          if (!dataTable) return;\n",
              "\n",
              "          const docLinkHtml = 'Like what you see? Visit the ' +\n",
              "            '<a target=\"_blank\" href=https://colab.research.google.com/notebooks/data_table.ipynb>data table notebook</a>'\n",
              "            + ' to learn more about interactive tables.';\n",
              "          element.innerHTML = '';\n",
              "          dataTable['output_type'] = 'display_data';\n",
              "          await google.colab.output.renderOutput(dataTable, element);\n",
              "          const docLink = document.createElement('div');\n",
              "          docLink.innerHTML = docLinkHtml;\n",
              "          element.appendChild(docLink);\n",
              "        }\n",
              "      </script>\n",
              "    </div>\n",
              "  </div>\n",
              "  "
            ]
          },
          "metadata": {},
          "execution_count": 11
        }
      ],
      "source": [
        "pd.set_option('display.float_format',lambda x: '{:,.2f}'.format(x) if abs(x) < 10000 else '{:,.0f}'.format(x))\n",
        "dataset.corr()"
      ]
    },
    {
      "cell_type": "code",
      "execution_count": 12,
      "id": "1e02a66c",
      "metadata": {
        "colab": {
          "base_uri": "https://localhost:8080/",
          "height": 387
        },
        "id": "1e02a66c",
        "outputId": "5d66b722-1172-49a4-9a19-c74aef5f121e"
      },
      "outputs": [
        {
          "output_type": "execute_result",
          "data": {
            "text/plain": [
              "<matplotlib.axes._subplots.AxesSubplot at 0x7f3158250590>"
            ]
          },
          "metadata": {},
          "execution_count": 12
        },
        {
          "output_type": "display_data",
          "data": {
            "text/plain": [
              "<Figure size 432x288 with 2 Axes>"
            ],
            "image/png": "[encoded data removed]"
          },
          "metadata": {
            "needs_background": "light"
          }
        }
      ],
      "source": [
        "import seaborn as sns\n",
        "sns.heatmap(dataset.corr() , cmap = 'YlGnBu' , square = True , linewidth = 6 , annot = True)"
      ]
    },
    {
      "cell_type": "code",
      "execution_count": 13,
      "id": "3856a8c1",
      "metadata": {
        "colab": {
          "base_uri": "https://localhost:8080/",
          "height": 661
        },
        "id": "3856a8c1",
        "outputId": "2925274b-7bb8-4d38-dcd6-30ab2a56a2c7"
      },
      "outputs": [
        {
          "output_type": "display_data",
          "data": {
            "text/plain": [
              "<Figure size 864x864 with 1 Axes>"
            ],
            "image/png": "[encoded data removed]"
          },
          "metadata": {
            "needs_background": "light"
          }
        }
      ],
      "source": [
        "import matplotlib.pyplot as plt\n",
        "x , y = plt.subplots(figsize = (12 , 12))"
      ]
    },
    {
      "cell_type": "code",
      "execution_count": 14,
      "id": "15ed5a40",
      "metadata": {
        "colab": {
          "base_uri": "https://localhost:8080/",
          "height": 399
        },
        "id": "15ed5a40",
        "outputId": "41ab226c-d982-42c1-f15c-208a80f86c11"
      },
      "outputs": [
        {
          "output_type": "execute_result",
          "data": {
            "text/plain": [
              "       Relative Compactness  Surface Area  Wall Area  Roof Area  \\\n",
              "count                768.00        768.00     768.00     768.00   \n",
              "mean                   0.76        671.71     318.50     176.60   \n",
              "std                    0.11         88.09      43.63      45.17   \n",
              "min                    0.62        514.50     245.00     110.25   \n",
              "25%                    0.68        606.38     294.00     140.88   \n",
              "50%                    0.75        673.75     318.50     183.75   \n",
              "75%                    0.83        741.12     343.00     220.50   \n",
              "max                    0.98        808.50     416.50     220.50   \n",
              "\n",
              "       Overall Height  Orientation  Glazing Area  Glazing Area Dis.  \\\n",
              "count          768.00       768.00        768.00             768.00   \n",
              "mean             5.25         3.50          0.23               2.81   \n",
              "std              1.75         1.12          0.13               1.55   \n",
              "min              3.50         2.00          0.00               0.00   \n",
              "25%              3.50         2.75          0.10               1.75   \n",
              "50%              5.25         3.50          0.25               3.00   \n",
              "75%              7.00         4.25          0.40               4.00   \n",
              "max              7.00         5.00          0.40               5.00   \n",
              "\n",
              "       Heating Load  Cooling Load  \n",
              "count        768.00        768.00  \n",
              "mean          22.31         24.59  \n",
              "std           10.09          9.51  \n",
              "min            6.01         10.90  \n",
              "25%           12.99         15.62  \n",
              "50%           18.95         22.08  \n",
              "75%           31.67         33.13  \n",
              "max           43.10         48.03  "
            ],
            "text/html": [
              "\n",
              "  <div id=\"df-1fe596bf-101e-4095-bbda-4b058c9c8bd6\">\n",
              "    <div class=\"colab-df-container\">\n",
              "      <div>\n",
              "<style scoped>\n",
              "    .dataframe tbody tr th:only-of-type {\n",
              "        vertical-align: middle;\n",
              "    }\n",
              "\n",
              "    .dataframe tbody tr th {\n",
              "        vertical-align: top;\n",
              "    }\n",
              "\n",
              "    .dataframe thead th {\n",
              "        text-align: right;\n",
              "    }\n",
              "</style>\n",
              "<table border=\"1\" class=\"dataframe\">\n",
              "  <thead>\n",
              "    <tr style=\"text-align: right;\">\n",
              "      <th></th>\n",
              "      <th>Relative Compactness</th>\n",
              "      <th>Surface Area</th>\n",
              "      <th>Wall Area</th>\n",
              "      <th>Roof Area</th>\n",
              "      <th>Overall Height</th>\n",
              "      <th>Orientation</th>\n",
              "      <th>Glazing Area</th>\n",
              "      <th>Glazing Area Dis.</th>\n",
              "      <th>Heating Load</th>\n",
              "      <th>Cooling Load</th>\n",
              "    </tr>\n",
              "  </thead>\n",
              "  <tbody>\n",
              "    <tr>\n",
              "      <th>count</th>\n",
              "      <td>768.00</td>\n",
              "      <td>768.00</td>\n",
              "      <td>768.00</td>\n",
              "      <td>768.00</td>\n",
              "      <td>768.00</td>\n",
              "      <td>768.00</td>\n",
              "      <td>768.00</td>\n",
              "      <td>768.00</td>\n",
              "      <td>768.00</td>\n",
              "      <td>768.00</td>\n",
              "    </tr>\n",
              "    <tr>\n",
              "      <th>mean</th>\n",
              "      <td>0.76</td>\n",
              "      <td>671.71</td>\n",
              "      <td>318.50</td>\n",
              "      <td>176.60</td>\n",
              "      <td>5.25</td>\n",
              "      <td>3.50</td>\n",
              "      <td>0.23</td>\n",
              "      <td>2.81</td>\n",
              "      <td>22.31</td>\n",
              "      <td>24.59</td>\n",
              "    </tr>\n",
              "    <tr>\n",
              "      <th>std</th>\n",
              "      <td>0.11</td>\n",
              "      <td>88.09</td>\n",
              "      <td>43.63</td>\n",
              "      <td>45.17</td>\n",
              "      <td>1.75</td>\n",
              "      <td>1.12</td>\n",
              "      <td>0.13</td>\n",
              "      <td>1.55</td>\n",
              "      <td>10.09</td>\n",
              "      <td>9.51</td>\n",
              "    </tr>\n",
              "    <tr>\n",
              "      <th>min</th>\n",
              "      <td>0.62</td>\n",
              "      <td>514.50</td>\n",
              "      <td>245.00</td>\n",
              "      <td>110.25</td>\n",
              "      <td>3.50</td>\n",
              "      <td>2.00</td>\n",
              "      <td>0.00</td>\n",
              "      <td>0.00</td>\n",
              "      <td>6.01</td>\n",
              "      <td>10.90</td>\n",
              "    </tr>\n",
              "    <tr>\n",
              "      <th>25%</th>\n",
              "      <td>0.68</td>\n",
              "      <td>606.38</td>\n",
              "      <td>294.00</td>\n",
              "      <td>140.88</td>\n",
              "      <td>3.50</td>\n",
              "      <td>2.75</td>\n",
              "      <td>0.10</td>\n",
              "      <td>1.75</td>\n",
              "      <td>12.99</td>\n",
              "      <td>15.62</td>\n",
              "    </tr>\n",
              "    <tr>\n",
              "      <th>50%</th>\n",
              "      <td>0.75</td>\n",
              "      <td>673.75</td>\n",
              "      <td>318.50</td>\n",
              "      <td>183.75</td>\n",
              "      <td>5.25</td>\n",
              "      <td>3.50</td>\n",
              "      <td>0.25</td>\n",
              "      <td>3.00</td>\n",
              "      <td>18.95</td>\n",
              "      <td>22.08</td>\n",
              "    </tr>\n",
              "    <tr>\n",
              "      <th>75%</th>\n",
              "      <td>0.83</td>\n",
              "      <td>741.12</td>\n",
              "      <td>343.00</td>\n",
              "      <td>220.50</td>\n",
              "      <td>7.00</td>\n",
              "      <td>4.25</td>\n",
              "      <td>0.40</td>\n",
              "      <td>4.00</td>\n",
              "      <td>31.67</td>\n",
              "      <td>33.13</td>\n",
              "    </tr>\n",
              "    <tr>\n",
              "      <th>max</th>\n",
              "      <td>0.98</td>\n",
              "      <td>808.50</td>\n",
              "      <td>416.50</td>\n",
              "      <td>220.50</td>\n",
              "      <td>7.00</td>\n",
              "      <td>5.00</td>\n",
              "      <td>0.40</td>\n",
              "      <td>5.00</td>\n",
              "      <td>43.10</td>\n",
              "      <td>48.03</td>\n",
              "    </tr>\n",
              "  </tbody>\n",
              "</table>\n",
              "</div>\n",
              "      <button class=\"colab-df-convert\" onclick=\"convertToInteractive('df-1fe596bf-101e-4095-bbda-4b058c9c8bd6')\"\n",
              "              title=\"Convert this dataframe to an interactive table.\"\n",
              "              style=\"display:none;\">\n",
              "        \n",
              "  <svg xmlns=\"http://www.w3.org/2000/svg\" height=\"24px\"viewBox=\"0 0 24 24\"\n",
              "       width=\"24px\">\n",
              "    <path d=\"M0 0h24v24H0V0z\" fill=\"none\"/>\n",
              "    <path d=\"M18.56 5.44l.94 2.06.94-2.06 2.06-.94-2.06-.94-.94-2.06-.94 2.06-2.06.94zm-11 1L8.5 8.5l.94-2.06 2.06-.94-2.06-.94L8.5 2.5l-.94 2.06-2.06.94zm10 10l.94 2.06.94-2.06 2.06-.94-2.06-.94-.94-2.06-.94 2.06-2.06.94z\"/><path d=\"M17.41 7.96l-1.37-1.37c-.4-.4-.92-.59-1.43-.59-.52 0-1.04.2-1.43.59L10.3 9.45l-7.72 7.72c-.78.78-.78 2.05 0 2.83L4 21.41c.39.39.9.59 1.41.59.51 0 1.02-.2 1.41-.59l7.78-7.78 2.81-2.81c.8-.78.8-2.07 0-2.86zM5.41 20L4 18.59l7.72-7.72 1.47 1.35L5.41 20z\"/>\n",
              "  </svg>\n",
              "      </button>\n",
              "      \n",
              "  <style>\n",
              "    .colab-df-container {\n",
              "      display:flex;\n",
              "      flex-wrap:wrap;\n",
              "      gap: 12px;\n",
              "    }\n",
              "\n",
              "    .colab-df-convert {\n",
              "      background-color: #E8F0FE;\n",
              "      border: none;\n",
              "      border-radius: 50%;\n",
              "      cursor: pointer;\n",
              "      display: none;\n",
              "      fill: #1967D2;\n",
              "      height: 32px;\n",
              "      padding: 0 0 0 0;\n",
              "      width: 32px;\n",
              "    }\n",
              "\n",
              "    .colab-df-convert:hover {\n",
              "      background-color: #E2EBFA;\n",
              "      box-shadow: 0px 1px 2px rgba(60, 64, 67, 0.3), 0px 1px 3px 1px rgba(60, 64, 67, 0.15);\n",
              "      fill: #174EA6;\n",
              "    }\n",
              "\n",
              "    [theme=dark] .colab-df-convert {\n",
              "      background-color: #3B4455;\n",
              "      fill: #D2E3FC;\n",
              "    }\n",
              "\n",
              "    [theme=dark] .colab-df-convert:hover {\n",
              "      background-color: #434B5C;\n",
              "      box-shadow: 0px 1px 3px 1px rgba(0, 0, 0, 0.15);\n",
              "      filter: drop-shadow(0px 1px 2px rgba(0, 0, 0, 0.3));\n",
              "      fill: #FFFFFF;\n",
              "    }\n",
              "  </style>\n",
              "\n",
              "      <script>\n",
              "        const buttonEl =\n",
              "          document.querySelector('#df-1fe596bf-101e-4095-bbda-4b058c9c8bd6 button.colab-df-convert');\n",
              "        buttonEl.style.display =\n",
              "          google.colab.kernel.accessAllowed ? 'block' : 'none';\n",
              "\n",
              "        async function convertToInteractive(key) {\n",
              "          const element = document.querySelector('#df-1fe596bf-101e-4095-bbda-4b058c9c8bd6');\n",
              "          const dataTable =\n",
              "            await google.colab.kernel.invokeFunction('convertToInteractive',\n",
              "                                                     [key], {});\n",
              "          if (!dataTable) return;\n",
              "\n",
              "          const docLinkHtml = 'Like what you see? Visit the ' +\n",
              "            '<a target=\"_blank\" href=https://colab.research.google.com/notebooks/data_table.ipynb>data table notebook</a>'\n",
              "            + ' to learn more about interactive tables.';\n",
              "          element.innerHTML = '';\n",
              "          dataTable['output_type'] = 'display_data';\n",
              "          await google.colab.output.renderOutput(dataTable, element);\n",
              "          const docLink = document.createElement('div');\n",
              "          docLink.innerHTML = docLinkHtml;\n",
              "          element.appendChild(docLink);\n",
              "        }\n",
              "      </script>\n",
              "    </div>\n",
              "  </div>\n",
              "  "
            ]
          },
          "metadata": {},
          "execution_count": 14
        }
      ],
      "source": [
        "dataset.describe()"
      ]
    },
    {
      "cell_type": "code",
      "execution_count": 15,
      "id": "444865a6",
      "metadata": {
        "colab": {
          "base_uri": "https://localhost:8080/"
        },
        "id": "444865a6",
        "outputId": "cdb6980d-61ca-493b-ed74-87af7eba1b98"
      },
      "outputs": [
        {
          "output_type": "execute_result",
          "data": {
            "text/plain": [
              "Relative Compactness    0.50\n",
              "Surface Area           -0.13\n",
              "Wall Area               0.53\n",
              "Roof Area              -0.16\n",
              "Overall Height          0.00\n",
              "Orientation             0.00\n",
              "Glazing Area           -0.06\n",
              "Glazing Area Dis.      -0.09\n",
              "Heating Load            0.36\n",
              "Cooling Load            0.40\n",
              "dtype: float64"
            ]
          },
          "metadata": {},
          "execution_count": 15
        }
      ],
      "source": [
        "dataset.skew()"
      ]
    },
    {
      "cell_type": "code",
      "execution_count": 16,
      "id": "9b4d1efc",
      "metadata": {
        "colab": {
          "base_uri": "https://localhost:8080/",
          "height": 265
        },
        "id": "9b4d1efc",
        "outputId": "4e04a036-f18c-489f-83bd-76f908ca80cd"
      },
      "outputs": [
        {
          "output_type": "display_data",
          "data": {
            "text/plain": [
              "<Figure size 432x288 with 1 Axes>"
            ],
            "image/png": "[encoded data removed]"
          },
          "metadata": {
            "needs_background": "light"
          }
        }
      ],
      "source": [
        "plt.boxplot(dataset)\n",
        "plt.show()"
      ]
    },
    {
      "cell_type": "code",
      "execution_count": 17,
      "id": "f03fd787",
      "metadata": {
        "colab": {
          "base_uri": "https://localhost:8080/",
          "height": 265
        },
        "id": "f03fd787",
        "outputId": "383cd424-2f84-4f7b-9f3e-1bdcb70c3131"
      },
      "outputs": [
        {
          "output_type": "display_data",
          "data": {
            "text/plain": [
              "<Figure size 432x288 with 1 Axes>"
            ],
            "image/png": "[encoded data removed]"
          },
          "metadata": {
            "needs_background": "light"
          }
        }
      ],
      "source": [
        "plt.boxplot(dataset['Relative Compactness'])\n",
        "plt.show()"
      ]
    },
    {
      "cell_type": "code",
      "execution_count": 18,
      "id": "d2b3895a",
      "metadata": {
        "colab": {
          "base_uri": "https://localhost:8080/",
          "height": 265
        },
        "id": "d2b3895a",
        "outputId": "df3502d9-c254-4552-ba7b-87fe1fd998b1"
      },
      "outputs": [
        {
          "output_type": "display_data",
          "data": {
            "text/plain": [
              "<Figure size 432x288 with 1 Axes>"
            ],
            "image/png": "[encoded data removed]"
          },
          "metadata": {
            "needs_background": "light"
          }
        }
      ],
      "source": [
        "plt.boxplot(dataset['Surface Area'])\n",
        "plt.show()"
      ]
    },
    {
      "cell_type": "code",
      "execution_count": 20,
      "id": "62ca1a4d",
      "metadata": {
        "colab": {
          "base_uri": "https://localhost:8080/",
          "height": 269
        },
        "id": "62ca1a4d",
        "outputId": "66dd127a-c136-432f-c717-e5735d5f0ed8"
      },
      "outputs": [
        {
          "output_type": "display_data",
          "data": {
            "text/plain": [
              "<Figure size 432x288 with 1 Axes>"
            ],
            "image/png": "[encoded data removed]"
          },
          "metadata": {
            "needs_background": "light"
          }
        }
      ],
      "source": [
        "plt.boxplot(dataset['Wall Area'])\n",
        "plt.show()"
      ]
    },
    {
      "cell_type": "code",
      "execution_count": 21,
      "id": "0b115968",
      "metadata": {
        "colab": {
          "base_uri": "https://localhost:8080/",
          "height": 265
        },
        "id": "0b115968",
        "outputId": "b44169a7-90b9-4f96-fd35-f6f846612319"
      },
      "outputs": [
        {
          "output_type": "display_data",
          "data": {
            "text/plain": [
              "<Figure size 432x288 with 1 Axes>"
            ],
            "image/png": "[encoded data removed]"
          },
          "metadata": {
            "needs_background": "light"
          }
        }
      ],
      "source": [
        "plt.boxplot(dataset['Roof Area'])\n",
        "plt.show()"
      ]
    },
    {
      "cell_type": "code",
      "execution_count": 22,
      "id": "a6495405",
      "metadata": {
        "colab": {
          "base_uri": "https://localhost:8080/",
          "height": 265
        },
        "id": "a6495405",
        "outputId": "966869f1-f6ad-4cc9-96ad-f53f2e6990d9"
      },
      "outputs": [
        {
          "output_type": "display_data",
          "data": {
            "text/plain": [
              "<Figure size 432x288 with 1 Axes>"
            ],
            "image/png": "[encoded data removed]"
          },
          "metadata": {
            "needs_background": "light"
          }
        }
      ],
      "source": [
        "plt.boxplot(dataset['Overall Height'])\n",
        "plt.show()"
      ]
    },
    {
      "cell_type": "code",
      "execution_count": 23,
      "id": "f3223741",
      "metadata": {
        "colab": {
          "base_uri": "https://localhost:8080/",
          "height": 265
        },
        "id": "f3223741",
        "outputId": "090eaa8c-4dc3-4e8f-92b6-dcaae2edad24"
      },
      "outputs": [
        {
          "output_type": "display_data",
          "data": {
            "text/plain": [
              "<Figure size 432x288 with 1 Axes>"
            ],
            "image/png": "[encoded data removed]"
          },
          "metadata": {
            "needs_background": "light"
          }
        }
      ],
      "source": [
        "plt.boxplot(dataset['Orientation'])\n",
        "plt.show()"
      ]
    },
    {
      "cell_type": "code",
      "execution_count": 24,
      "id": "41fd90e5",
      "metadata": {
        "colab": {
          "base_uri": "https://localhost:8080/",
          "height": 265
        },
        "id": "41fd90e5",
        "outputId": "427e35d2-1986-4a7d-e983-4c4effc4bb13"
      },
      "outputs": [
        {
          "output_type": "display_data",
          "data": {
            "text/plain": [
              "<Figure size 432x288 with 1 Axes>"
            ],
            "image/png": "[encoded data removed]"
          },
          "metadata": {
            "needs_background": "light"
          }
        }
      ],
      "source": [
        "plt.boxplot(dataset['Glazing Area'])\n",
        "plt.show()"
      ]
    },
    {
      "cell_type": "code",
      "execution_count": 25,
      "id": "6ba10ef6",
      "metadata": {
        "colab": {
          "base_uri": "https://localhost:8080/",
          "height": 265
        },
        "id": "6ba10ef6",
        "outputId": "cc42e6bb-efca-4cce-e8fb-4ffb52db0d73"
      },
      "outputs": [
        {
          "output_type": "display_data",
          "data": {
            "text/plain": [
              "<Figure size 432x288 with 1 Axes>"
            ],
            "image/png": "[encoded data removed]"
          },
          "metadata": {
            "needs_background": "light"
          }
        }
      ],
      "source": [
        "plt.boxplot(dataset['Glazing Area Dis.'])\n",
        "plt.show()"
      ]
    },
    {
      "cell_type": "code",
      "execution_count": 26,
      "id": "d2e57efe",
      "metadata": {
        "colab": {
          "base_uri": "https://localhost:8080/",
          "height": 265
        },
        "id": "d2e57efe",
        "outputId": "a43d9efb-7713-4556-e6e3-55a34b147cd9"
      },
      "outputs": [
        {
          "output_type": "display_data",
          "data": {
            "text/plain": [
              "<Figure size 432x288 with 1 Axes>"
            ],
            "image/png": "[encoded data removed]"
          },
          "metadata": {
            "needs_background": "light"
          }
        }
      ],
      "source": [
        "plt.boxplot(dataset['Heating Load'])\n",
        "plt.show()"
      ]
    },
    {
      "cell_type": "code",
      "execution_count": 27,
      "id": "d0a7838e",
      "metadata": {
        "colab": {
          "base_uri": "https://localhost:8080/",
          "height": 265
        },
        "id": "d0a7838e",
        "outputId": "d5e8d28f-3403-4ac3-9e04-e72ec78a4bb3"
      },
      "outputs": [
        {
          "output_type": "display_data",
          "data": {
            "text/plain": [
              "<Figure size 432x288 with 1 Axes>"
            ],
            "image/png": "[encoded data removed]"
          },
          "metadata": {
            "needs_background": "light"
          }
        }
      ],
      "source": [
        "plt.boxplot(dataset['Cooling Load'])\n",
        "plt.show()"
      ]
    },
    {
      "cell_type": "code",
      "execution_count": 28,
      "id": "b23b3845",
      "metadata": {
        "id": "b23b3845"
      },
      "outputs": [],
      "source": [
        "import numpy as np\n",
        "x=dataset.iloc[:,:8].values\n",
        "y=dataset.iloc[:,8:10].values"
      ]
    },
    {
      "cell_type": "code",
      "execution_count": 29,
      "id": "0ac9cc2d",
      "metadata": {
        "id": "0ac9cc2d"
      },
      "outputs": [],
      "source": [
        "from sklearn.preprocessing import StandardScaler\n",
        "sc= StandardScaler()\n",
        "x=sc.fit_transform(x)\n",
        "y=sc.fit_transform(y)"
      ]
    },
    {
      "cell_type": "code",
      "execution_count": 30,
      "id": "8225cbc0",
      "metadata": {
        "colab": {
          "base_uri": "https://localhost:8080/"
        },
        "id": "8225cbc0",
        "outputId": "42115c27-635f-4402-e3a8-cf8b8a1f597e"
      },
      "outputs": [
        {
          "output_type": "execute_result",
          "data": {
            "text/plain": [
              "array([[ 2.04177671, -1.78587489, -0.56195149, ..., -1.34164079,\n",
              "        -1.76044698, -1.81457514],\n",
              "       [ 2.04177671, -1.78587489, -0.56195149, ..., -0.4472136 ,\n",
              "        -1.76044698, -1.81457514],\n",
              "       [ 2.04177671, -1.78587489, -0.56195149, ...,  0.4472136 ,\n",
              "        -1.76044698, -1.81457514],\n",
              "       ...,\n",
              "       [-1.36381225,  1.55394308,  1.12390297, ..., -0.4472136 ,\n",
              "         1.2440492 ,  1.41133622],\n",
              "       [-1.36381225,  1.55394308,  1.12390297, ...,  0.4472136 ,\n",
              "         1.2440492 ,  1.41133622],\n",
              "       [-1.36381225,  1.55394308,  1.12390297, ...,  1.34164079,\n",
              "         1.2440492 ,  1.41133622]])"
            ]
          },
          "metadata": {},
          "execution_count": 30
        }
      ],
      "source": [
        "x"
      ]
    },
    {
      "cell_type": "code",
      "execution_count": 31,
      "id": "bcfc9fa2",
      "metadata": {
        "colab": {
          "base_uri": "https://localhost:8080/"
        },
        "id": "bcfc9fa2",
        "outputId": "c18f809a-a06a-4093-eeec-e3d63d8470c4"
      },
      "outputs": [
        {
          "output_type": "execute_result",
          "data": {
            "text/plain": [
              "array([[-0.67011624, -0.34266569],\n",
              "       [-0.67011624, -0.34266569],\n",
              "       [-0.67011624, -0.34266569],\n",
              "       ...,\n",
              "       [-0.58185433, -0.78654401],\n",
              "       [-0.5778875 , -0.83913623],\n",
              "       [-0.56202019, -0.9001432 ]])"
            ]
          },
          "metadata": {},
          "execution_count": 31
        }
      ],
      "source": [
        "y"
      ]
    },
    {
      "cell_type": "code",
      "execution_count": 32,
      "id": "7a9d8e44",
      "metadata": {
        "id": "7a9d8e44"
      },
      "outputs": [],
      "source": [
        "from sklearn.model_selection import train_test_split\n",
        "X_train,X_test,y_train,y_test=train_test_split(x,y,test_size=0.2, random_state = 123)"
      ]
    },
    {
      "cell_type": "code",
      "execution_count": 33,
      "id": "301e532a",
      "metadata": {
        "id": "301e532a"
      },
      "outputs": [],
      "source": [
        "from sklearn.ensemble import ExtraTreesRegressor\n",
        "extra_model = ExtraTreesRegressor(random_state=123)\n",
        "extra_model.fit(X_train, y_train)\n",
        "y_pred = extra_model.predict(X_test)"
      ]
    },
    {
      "cell_type": "code",
      "execution_count": 40,
      "id": "ce6324f1",
      "metadata": {
        "colab": {
          "base_uri": "https://localhost:8080/"
        },
        "id": "ce6324f1",
        "outputId": "93b8a475-56f3-4b6f-8911-ae6ff2aea556"
      },
      "outputs": [
        {
          "output_type": "stream",
          "name": "stdout",
          "text": [
            "R2 score = 0.985\n"
          ]
        }
      ],
      "source": [
        "    from sklearn.metrics import r2_score\n",
        "    predictions = extra_model.predict(X_test)\n",
        "    R2 = np.mean(r2_score(y_test, predictions))\n",
        "    print('R2 score = %.3f' % R2)"
      ]
    },
    {
      "cell_type": "code",
      "execution_count": null,
      "id": "4745afee",
      "metadata": {
        "id": "4745afee"
      },
      "outputs": [],
      "source": [
        ""
      ]
    },
    {
      "cell_type": "code",
      "execution_count": null,
      "id": "fc41ab92",
      "metadata": {
        "id": "fc41ab92"
      },
      "outputs": [],
      "source": [
        ""
      ]
    }
  ],
  "metadata": {
    "kernelspec": {
      "display_name": "Python 3 (ipykernel)",
      "language": "python",
      "name": "python3"
    },
    "language_info": {
      "codemirror_mode": {
        "name": "ipython",
        "version": 3
      },
      "file_extension": ".py",
      "mimetype": "text/x-python",
      "name": "python",
      "nbconvert_exporter": "python",
      "pygments_lexer": "ipython3",
      "version": "3.9.12"
    },
    "colab": {
      "name": "Extra Trees Regression.ipynb",
      "provenance": []
    }
  },
  "nbformat": 4,
  "nbformat_minor": 5
}